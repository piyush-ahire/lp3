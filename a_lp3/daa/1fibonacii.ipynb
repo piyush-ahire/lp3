{
 "cells": [
  {
   "cell_type": "code",
   "execution_count": null,
   "id": "a0cff5a9-8202-42ad-9dfb-9e92e5ef01cf",
   "metadata": {},
   "outputs": [],
   "source": [
    "import timeit\n",
    "\n",
    "def fibonacci(n):\n",
    "    \"\"\"Non-recursive Fibonacci function\"\"\"\n",
    "    fib_list = [0] * (n + 1)\n",
    "    fib_list[0], fib_list[1] = 0, 1\n",
    "    for i in range(2, n + 1):\n",
    "        fib_list[i] = fib_list[i - 1] + fib_list[i - 2]\n",
    "    return fib_list[n]\n",
    "\n",
    "def fibonacci_recursive(n):\n",
    "    \"\"\"Recursive Fibonacci function\"\"\"\n",
    "    if n == 0:\n",
    "        return 0\n",
    "    if n == 1:\n",
    "        return 1\n",
    "    return fibonacci_recursive(n - 1) + fibonacci_recursive(n - 2)\n",
    "\n",
    "N = 20\n",
    "RUNS = 1000\n",
    "\n",
    "print(f\"Given N = {N}\\n{RUNS} runs\")\n",
    "\n",
    "# Timing the non-recursive function\n",
    "non_recursive_time = timeit.timeit(\"fibonacci(N)\", setup=\"from __main__ import fibonacci; N=20\", number=RUNS)\n",
    "print(f\"Fibonacci non-recursive: {fibonacci(N)}\\tTime: {non_recursive_time:5f} O(n)\\tSpace: O(n)\")\n",
    "\n",
    "# Timing the recursive function\n",
    "recursive_time = timeit.timeit(\"fibonacci_recursive(N)\", setup=\"from __main__ import fibonacci_recursive; N=20\", number=RUNS)\n",
    "print(f\"Fibonacci recursive: {fibonacci_recursive(N)}\\tTime: {recursive_time:5f} O(2^n)\\tSpace: O(n)\")\n"
   ]
  }
 ],
 "metadata": {
  "kernelspec": {
   "display_name": "Python 3 (ipykernel)",
   "language": "python",
   "name": "python3"
  },
  "language_info": {
   "codemirror_mode": {
    "name": "ipython",
    "version": 3
   },
   "file_extension": ".py",
   "mimetype": "text/x-python",
   "name": "python",
   "nbconvert_exporter": "python",
   "pygments_lexer": "ipython3",
   "version": "3.11.7"
  }
 },
 "nbformat": 4,
 "nbformat_minor": 5
}
