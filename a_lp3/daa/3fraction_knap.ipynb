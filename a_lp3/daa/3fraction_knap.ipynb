{
 "cells": [
  {
   "cell_type": "code",
   "execution_count": null,
   "id": "88b7f1ab-d4f5-4d5b-ad8a-346300afc181",
   "metadata": {},
   "outputs": [],
   "source": [
    "class ItemValue:\n",
    "    \"\"\"Item Value DataClass\"\"\"\n",
    "    def __init__(self, wt_, val_, ind_):\n",
    "        self.wt = wt_\n",
    "        self.val = val_\n",
    "        self.ind = ind_\n",
    "        # Cost represents value per unit weight\n",
    "        self.cost = val_ / wt_  # Use division instead of integer division\n",
    "\n",
    "    # Comparator function to sort items by cost (value/weight ratio)\n",
    "    def __lt__(self, other):\n",
    "        return self.cost < other.cost\n",
    "\n",
    "\n",
    "def fractionalKnapSack(wt, val, capacity):\n",
    "    \"\"\"Function to get the maximum value in the knapsack\"\"\"\n",
    "    # Create a list of ItemValue objects\n",
    "    iVal = [ItemValue(wt[i], val[i], i) for i in range(len(wt))]\n",
    "    \n",
    "    # Sort items by their value-to-weight ratio (descending order)\n",
    "    iVal.sort(reverse=True)\n",
    "    \n",
    "    totalValue = 0  # Total value in knapsack\n",
    "\n",
    "    for i in iVal:\n",
    "        curWt = i.wt\n",
    "        curVal = i.val\n",
    "\n",
    "        # If the item can be completely added, take all of it\n",
    "        if capacity - curWt >= 0:\n",
    "            capacity -= curWt\n",
    "            totalValue += curVal\n",
    "        else:\n",
    "            # Otherwise, take the fraction of the item that fits\n",
    "            fraction = capacity / curWt\n",
    "            totalValue += curVal * fraction\n",
    "            break  # Once the knapsack is full, we break the loop\n",
    "\n",
    "    return totalValue\n",
    "\n",
    "\n",
    "if __name__ == \"__main__\":\n",
    "    wt = [10, 40, 20, 30]  # Weights of items\n",
    "    val = [60, 40, 100, 120]  # Values of items\n",
    "    capacity = 50  # Knapsack capacity\n",
    "\n",
    "    # Function call to compute the maximum value\n",
    "    maxValue = fractionalKnapSack(wt, val, capacity)\n",
    "    print(\"Maximum value in Knapsack =\", maxValue)\n"
   ]
  }
 ],
 "metadata": {
  "kernelspec": {
   "display_name": "Python 3 (ipykernel)",
   "language": "python",
   "name": "python3"
  },
  "language_info": {
   "codemirror_mode": {
    "name": "ipython",
    "version": 3
   },
   "file_extension": ".py",
   "mimetype": "text/x-python",
   "name": "python",
   "nbconvert_exporter": "python",
   "pygments_lexer": "ipython3",
   "version": "3.11.7"
  }
 },
 "nbformat": 4,
 "nbformat_minor": 5
}
