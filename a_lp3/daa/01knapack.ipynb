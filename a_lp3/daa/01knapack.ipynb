{
 "cells": [
  {
   "cell_type": "code",
   "execution_count": null,
   "id": "36295ddb-4ecb-42f0-88fd-9ea264991e27",
   "metadata": {},
   "outputs": [],
   "source": [
    "def knapsack_dp(W, wt, val, n):\n",
    "    \"\"\"A Dynamic Programming based solution for the 0-1 Knapsack problem\n",
    "    Returns the maximum value that can be put in a knapsack of capacity W.\"\"\"\n",
    "    \n",
    "    # Create a 2D DP table to store the maximum profit for each subproblem\n",
    "    K = [[0 for x in range(W + 1)] for x in range(n + 1)]\n",
    "    \n",
    "    # Build the table K[][] in a bottom-up manner\n",
    "    for i in range(n + 1):\n",
    "        for w in range(W + 1):\n",
    "            # Base case: If no items or capacity is 0, max profit is 0\n",
    "            if i == 0 or w == 0:\n",
    "                K[i][w] = 0\n",
    "            # If including the item is beneficial (item fits in current capacity)\n",
    "            elif wt[i - 1] <= w:\n",
    "                # Max of including the item or excluding it\n",
    "                K[i][w] = max(val[i - 1] + K[i - 1][w - wt[i - 1]], K[i - 1][w])\n",
    "            else:\n",
    "                # Exclude the item\n",
    "                K[i][w] = K[i - 1][w]\n",
    "    \n",
    "    # The bottom-right corner of the DP table contains the maximum value\n",
    "    return K[n][W]\n",
    "\n",
    "# Example input\n",
    "val = [60, 100, 120]  # Values of the items\n",
    "wt = [10, 20, 30]     # Weights of the items\n",
    "W = 50                # Knapsack capacity\n",
    "n = len(val)          # Number of items\n",
    "\n",
    "# Function call\n",
    "print(\"Maximum possible profit =\", knapsack_dp(W, wt, val, n))\n"
   ]
  }
 ],
 "metadata": {
  "kernelspec": {
   "display_name": "Python 3 (ipykernel)",
   "language": "python",
   "name": "python3"
  },
  "language_info": {
   "codemirror_mode": {
    "name": "ipython",
    "version": 3
   },
   "file_extension": ".py",
   "mimetype": "text/x-python",
   "name": "python",
   "nbconvert_exporter": "python",
   "pygments_lexer": "ipython3",
   "version": "3.11.7"
  }
 },
 "nbformat": 4,
 "nbformat_minor": 5
}
