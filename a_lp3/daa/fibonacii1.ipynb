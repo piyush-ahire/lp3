{
 "cells": [
  {
   "cell_type": "code",
   "execution_count": 2,
   "id": "42122b34-52c8-498b-93a5-c44796370e72",
   "metadata": {},
   "outputs": [
    {
     "name": "stdin",
     "output_type": "stream",
     "text": [
      "Enter the value of n (nth Fibonacci number):  4\n"
     ]
    },
    {
     "name": "stdout",
     "output_type": "stream",
     "text": [
      "Fibonacci Number (Iterative): 2\n",
      "Fibonacci Number (Recursive): 3\n"
     ]
    }
   ],
   "source": [
    "def fibonacci_iterative(n: int) -> int:\n",
    "    if n <= 1:\n",
    "        return n\n",
    "    elif n == 2:\n",
    "        return 1\n",
    "    \n",
    "    dp = [0] * n\n",
    "    dp[0], dp[1] = 0, 1\n",
    "    for i in range(2, n):\n",
    "        dp[i] = dp[i - 1] + dp[i - 2]\n",
    "    return dp[-1]\n",
    "\n",
    "def fibonacci_recursive(n: int) -> int:\n",
    "    cache = {0: 0, 1: 1}\n",
    "    return recursive_helper(n, cache)\n",
    "\n",
    "def recursive_helper(n: int, cache: dict) -> int:\n",
    "    if n in cache:\n",
    "        return cache[n]\n",
    "    cache[n] = recursive_helper(n - 1, cache) + recursive_helper(n - 2, cache)\n",
    "    return cache[n]\n",
    "\n",
    "# Test the functions\n",
    "n = int(input(\"Enter the value of n (nth Fibonacci number): \"))\n",
    "print(f\"Fibonacci Number (Iterative): {fibonacci_iterative(n)}\")\n",
    "print(f\"Fibonacci Number (Recursive): {fibonacci_recursive(n)}\")\n"
   ]
  },
  {
   "cell_type": "code",
   "execution_count": null,
   "id": "a7c9e9f0-080a-4aab-86af-3f2eecc15187",
   "metadata": {},
   "outputs": [],
   "source": []
  }
 ],
 "metadata": {
  "kernelspec": {
   "display_name": "Python 3 (ipykernel)",
   "language": "python",
   "name": "python3"
  },
  "language_info": {
   "codemirror_mode": {
    "name": "ipython",
    "version": 3
   },
   "file_extension": ".py",
   "mimetype": "text/x-python",
   "name": "python",
   "nbconvert_exporter": "python",
   "pygments_lexer": "ipython3",
   "version": "3.11.7"
  }
 },
 "nbformat": 4,
 "nbformat_minor": 5
}
